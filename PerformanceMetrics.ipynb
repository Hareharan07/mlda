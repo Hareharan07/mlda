{
  "nbformat": 4,
  "nbformat_minor": 0,
  "metadata": {
    "colab": {
      "provenance": []
    },
    "kernelspec": {
      "name": "python3",
      "display_name": "Python 3"
    },
    "language_info": {
      "name": "python"
    }
  },
  "cells": [
    {
      "cell_type": "code",
      "execution_count": null,
      "metadata": {
        "colab": {
          "base_uri": "https://localhost:8080/"
        },
        "id": "XN0RdEdCs8pJ",
        "outputId": "1b5d23d5-9d89-4464-8d70-0584dcec5704"
      },
      "outputs": [
        {
          "output_type": "stream",
          "name": "stdout",
          "text": [
            "Decision Tree Accuracy: 0.9956140350877193\n",
            "Linear Regression MSE: 837874.4107846403\n",
            "Linear Regression R2: 0.711403112118626\n"
          ]
        }
      ],
      "source": [
        "import pandas as pd\n",
        "import numpy as np\n",
        "from sklearn.preprocessing import OneHotEncoder\n",
        "from sklearn.model_selection import train_test_split\n",
        "from sklearn.tree import DecisionTreeClassifier\n",
        "from sklearn.linear_model import LinearRegression\n",
        "from sklearn.metrics import accuracy_score, mean_squared_error, r2_score\n",
        "from sklearn.compose import ColumnTransformer\n",
        "from sklearn.pipeline import Pipeline\n",
        "\n",
        "# Load dataset\n",
        "data = pd.read_csv(\"winners_f1_1950_2025_v2.csv\")\n",
        "\n",
        "# Convert race time to seconds\n",
        "def time_to_seconds(t):\n",
        "    try:\n",
        "        parts = list(map(int, t.split(\":\")))\n",
        "        return parts[0] * 3600 + parts[1] * 60 + parts[2]\n",
        "    except:\n",
        "        return np.nan\n",
        "\n",
        "data[\"time_seconds\"] = data[\"time\"].apply(time_to_seconds)\n",
        "data = data.dropna(subset=[\"time_seconds\"])  # remove missing\n",
        "\n",
        "# ---------------------------\n",
        "# Features & Target for Classification (continent)\n",
        "# ---------------------------\n",
        "X_class = data[[\"laps\", \"year\", \"grand_prix\", \"circuit\", \"team\"]]\n",
        "y_class = data[\"continent\"]\n",
        "\n",
        "# Preprocessor for categorical + numeric\n",
        "preprocessor_class = ColumnTransformer(\n",
        "    transformers=[\n",
        "        (\"cat\", OneHotEncoder(handle_unknown=\"ignore\"), [\"grand_prix\", \"circuit\", \"team\"])\n",
        "    ], remainder='passthrough')\n",
        "\n",
        "Xc_train, Xc_test, yc_train, yc_test = train_test_split(X_class, y_class, test_size=0.2, random_state=42)\n",
        "\n",
        "# Decision Tree Classifier\n",
        "clf = Pipeline(steps=[(\"preprocessor\", preprocessor_class),\n",
        "                     (\"classifier\", DecisionTreeClassifier(criterion=\"entropy\", random_state=42))])\n",
        "clf.fit(Xc_train, yc_train)\n",
        "yc_pred = clf.predict(Xc_test)\n",
        "accuracy_dt = accuracy_score(yc_test, yc_pred)\n",
        "print(\"Decision Tree Accuracy:\", accuracy_dt)\n",
        "\n",
        "# ---------------------------\n",
        "# Features & Target for Regression (time_seconds)\n",
        "# ---------------------------\n",
        "X_reg = data[[\"laps\", \"year\", \"grand_prix\", \"circuit\", \"team\"]]\n",
        "y_reg = data[\"time_seconds\"]\n",
        "\n",
        "preprocessor_reg = ColumnTransformer(\n",
        "    transformers=[\n",
        "        (\"cat\", OneHotEncoder(handle_unknown=\"ignore\"), [\"grand_prix\", \"circuit\", \"team\"])\n",
        "    ], remainder='passthrough')\n",
        "\n",
        "Xr_train, Xr_test, yr_train, yr_test = train_test_split(X_reg, y_reg, test_size=0.2, random_state=42)\n",
        "\n",
        "lrr = Pipeline(steps=[(\"preprocessor\", preprocessor_reg),\n",
        "                     (\"regressor\", LinearRegression())])\n",
        "\n",
        "lrr.fit(Xr_train, yr_train)\n",
        "yr_pred = lrr.predict(Xr_test)\n",
        "\n",
        "mse = mean_squared_error(yr_test, yr_pred)\n",
        "r2 = r2_score(yr_test, yr_pred)\n",
        "print(\"Linear Regression MSE:\", mse)\n",
        "print(\"Linear Regression R2:\", r2)"
      ]
    }
  ]
}