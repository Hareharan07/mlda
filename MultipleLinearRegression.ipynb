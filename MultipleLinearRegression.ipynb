{
  "nbformat": 4,
  "nbformat_minor": 0,
  "metadata": {
    "colab": {
      "provenance": []
    },
    "kernelspec": {
      "name": "python3",
      "display_name": "Python 3"
    },
    "language_info": {
      "name": "python"
    }
  },
  "cells": [
    {
      "cell_type": "code",
      "execution_count": null,
      "metadata": {
        "colab": {
          "base_uri": "https://localhost:8080/"
        },
        "id": "3T0sN8EttZ7M",
        "outputId": "5fa19101-768b-411a-af8c-fe822b1148ab"
      },
      "outputs": [
        {
          "output_type": "stream",
          "name": "stdout",
          "text": [
            "Linear Regression MSE: 837874.4107846403\n",
            "Linear Regression R2: 0.711403112118626\n"
          ]
        }
      ],
      "source": [
        "import pandas as pd\n",
        "from sklearn.model_selection import train_test_split\n",
        "from sklearn.linear_model import LinearRegression\n",
        "from sklearn.metrics import mean_squared_error, r2_score\n",
        "from sklearn.preprocessing import OneHotEncoder\n",
        "from sklearn.compose import ColumnTransformer\n",
        "\n",
        "# Load dataset\n",
        "data = pd.read_csv(\"winners_f1_1950_2025_v2.csv\")\n",
        "\n",
        "# Convert race time (HH:MM:SS) to seconds\n",
        "def time_to_seconds(t):\n",
        "    try:\n",
        "        parts = list(map(int, t.split(\":\")))\n",
        "        return parts[0] * 3600 + parts[1] * 60 + parts[2]\n",
        "    except:\n",
        "        return None\n",
        "\n",
        "data[\"time_seconds\"] = data[\"time\"].apply(time_to_seconds)\n",
        "data = data.dropna(subset=[\"time_seconds\"])  # remove rows without valid times\n",
        "\n",
        "# Features (multiple predictors)\n",
        "X = data[[\"laps\", \"year\", \"grand_prix\", \"circuit\", \"team\"]]\n",
        "y = data[\"time_seconds\"]\n",
        "\n",
        "# Preprocess categorical variables\n",
        "preprocessor = ColumnTransformer(\n",
        "    transformers=[\n",
        "        (\"cat\", OneHotEncoder(handle_unknown=\"ignore\"), [\"grand_prix\", \"circuit\", \"team\"])\n",
        "    ], remainder='passthrough')\n",
        "\n",
        "# Train-test split\n",
        "X_train, X_test, y_train, y_test = train_test_split(X, y, test_size=0.2, random_state=42)\n",
        "\n",
        "# Multiple Linear Regression\n",
        "lrr = LinearRegression()\n",
        "X_train_enc = preprocessor.fit_transform(X_train)\n",
        "X_test_enc = preprocessor.transform(X_test)\n",
        "\n",
        "lrr.fit(X_train_enc, y_train)\n",
        "y_pred = lrr.predict(X_test_enc)\n",
        "\n",
        "# Evaluation metrics\n",
        "mse = mean_squared_error(y_test, y_pred)\n",
        "r2 = r2_score(y_test, y_pred)\n",
        "\n",
        "print(\"Linear Regression MSE:\", mse)\n",
        "print(\"Linear Regression R2:\", r2)\n"
      ]
    }
  ]
}