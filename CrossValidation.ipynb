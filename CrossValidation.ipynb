{
  "nbformat": 4,
  "nbformat_minor": 0,
  "metadata": {
    "colab": {
      "provenance": []
    },
    "kernelspec": {
      "name": "python3",
      "display_name": "Python 3"
    },
    "language_info": {
      "name": "python"
    }
  },
  "cells": [
    {
      "cell_type": "code",
      "execution_count": null,
      "metadata": {
        "colab": {
          "base_uri": "https://localhost:8080/"
        },
        "id": "PPPt7uhrsNMg",
        "outputId": "34ae994b-6469-4b5d-d889-0ecefb745975"
      },
      "outputs": [
        {
          "output_type": "stream",
          "name": "stdout",
          "text": [
            "Cross Validation Scores (DecisionTree): [0.99130435 1.         0.99122807 0.98245614 0.99122807 0.99122807\n",
            " 0.99122807 0.99122807 1.         1.        ]\n",
            "Cross Validation Scores (LogisticRegression): [1.         0.99130435 1.         0.99122807 1.         1.\n",
            " 1.         1.         1.         1.        ]\n",
            "Average CV Score (DecisionTree): 0.9929900839054155\n",
            "Average CV Score (LogisticRegression): 0.9982532418001526\n",
            "Number of CV Scores used (DecisionTree): 10\n",
            "Number of CV Scores used (LogisticRegression): 10\n"
          ]
        }
      ],
      "source": [
        "import pandas as pd\n",
        "import numpy as np\n",
        "from sklearn.model_selection import KFold, cross_val_score\n",
        "from sklearn.tree import DecisionTreeClassifier\n",
        "from sklearn.linear_model import LogisticRegression\n",
        "from sklearn.preprocessing import StandardScaler, OneHotEncoder\n",
        "from sklearn.compose import ColumnTransformer\n",
        "from sklearn.pipeline import Pipeline\n",
        "\n",
        "# Load dataset\n",
        "data = pd.read_csv(\"winners_f1_1950_2025_v2.csv\")\n",
        "\n",
        "# ---------------------------\n",
        "# Preprocessing\n",
        "# ---------------------------\n",
        "# Features and target\n",
        "y = data[\"continent\"]   # Classification target\n",
        "X = data.drop(columns=[\"continent\", \"date\", \"winner_name\", \"time\"])\n",
        "\n",
        "# Define numeric and categorical features\n",
        "num_features = [\"laps\", \"year\"]\n",
        "cat_features = [\"grand_prix\", \"circuit\", \"team\"]\n",
        "\n",
        "num_transformer = Pipeline(steps=[\n",
        "    (\"scaler\", StandardScaler())\n",
        "])\n",
        "\n",
        "cat_transformer = Pipeline(steps=[\n",
        "    (\"onehot\", OneHotEncoder(handle_unknown=\"ignore\", sparse_output=False))\n",
        "])\n",
        "\n",
        "preprocessor = ColumnTransformer(\n",
        "    transformers=[\n",
        "        (\"num\", num_transformer, num_features),\n",
        "        (\"cat\", cat_transformer, cat_features)\n",
        "    ]\n",
        ")\n",
        "\n",
        "# ---------------------------\n",
        "# Models with preprocessing\n",
        "# ---------------------------\n",
        "clf1 = Pipeline(steps=[(\"preprocessor\", preprocessor),\n",
        "                      (\"classifier\", DecisionTreeClassifier(random_state=42))])\n",
        "\n",
        "clf2 = Pipeline(steps=[(\"preprocessor\", preprocessor),\n",
        "                      (\"classifier\", LogisticRegression(max_iter=1000))])\n",
        "\n",
        "# ---------------------------\n",
        "# Cross-validation\n",
        "# ---------------------------\n",
        "k_folds = KFold(n_splits=10, shuffle=True, random_state=42)\n",
        "\n",
        "scores1 = cross_val_score(clf1, X, y, cv=k_folds)\n",
        "scores2 = cross_val_score(clf2, X, y, cv=k_folds)\n",
        "\n",
        "print(\"Cross Validation Scores (DecisionTree):\", scores1)\n",
        "print(\"Cross Validation Scores (LogisticRegression):\", scores2)\n",
        "print(\"Average CV Score (DecisionTree):\", scores1.mean())\n",
        "print(\"Average CV Score (LogisticRegression):\", scores2.mean())\n",
        "print(\"Number of CV Scores used (DecisionTree):\", len(scores1))\n",
        "print(\"Number of CV Scores used (LogisticRegression):\", len(scores2))"
      ]
    }
  ]
}